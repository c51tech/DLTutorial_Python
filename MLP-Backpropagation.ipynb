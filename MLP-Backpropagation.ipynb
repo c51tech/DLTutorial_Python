{
 "cells": [
  {
   "cell_type": "markdown",
   "metadata": {},
   "source": [
    "# MLP\n",
    "\n",
    "<img src='http://i.stack.imgur.com/3mnuT.png' />\n",
    "\n",
    "[Wikipedia](https://en.wikipedia.org/wiki/Backpropagation)"
   ]
  },
  {
   "cell_type": "markdown",
   "metadata": {},
   "source": [
    "## Notations\n",
    "\n",
    "### Data\n",
    "- input: $ \\mathbf{x} = [1, x_1, x_2, ..., x_D] $  \n",
    "- class: $ \\mathcal{C} = \\{C_1, C_2, ..., C_{N_C}\\} $  \n",
    "- target output: $ \\mathbf{t} = [t_1, ..., t_{N_C}] $\n",
    "\n",
    "예를 들어, 클래스가 {'미국', '중국', '일본'} 이라면,  \n",
    "'미국'은 $ \\mathbf{t} = [1, 0, 0] $  \n",
    "'중국'은 $ \\mathbf{t} = [0, 1, 0] $  \n",
    "'일본'은 $ \\mathbf{t} = [0, 0, 1] $  \n",
    "으로 변환한다.\n",
    "\n",
    "따라서 학습에 사용될 데이터 $ \\mathscr{D} $는 다음과 같이 표현된다.  \n",
    "$ \\mathscr{D} = [ [\\mathbf{x}^{(1)}, \\mathbf{t}^{(1)}], [\\mathbf{x}^{(2)}, \\mathbf{t}^{(2)}], ... , [\\mathbf{x}^{(N)}, \\mathbf{t}^{(N)}]  ] $  \n",
    "\n",
    "\n",
    "\n",
    "### Neuron\n",
    "For each neuron j,  \n",
    "\n",
    "- output: $ o_j = \\sigma(\\mathtt{net}_j) $  \n",
    "- activation function: $ \\sigma(\\cdot) $  \n",
    "- weighted sum to neuron $j$: $\\mathtt{net}_j = \\sum_{i=0}^{N_i}{w_{ij}o_i}$  \n",
    "- weight from neuron $i$ to neuron $j$: $w_{ij}$\n",
    "\n",
    "### MLP\n",
    "\n",
    "input: $ \\mathbf{x} = [1, x_1, ..., x_i, ... , x_{N_i}] $  \n",
    "hidden: $ \\mathbf{h} = [1, h_1, ..., h_j, ... , h_{N_j}] $  \n",
    "actual output: $ \\mathbf{y} = [y_1, ..., y_k, ... , y_{N_k}] $  \n",
    "\n",
    "$i$ : index for input neurons  \n",
    "$j$ : index for hidden neurons  \n",
    "$k$ : index for output neurons  \n",
    "\n",
    "$h_j = \\sigma(\\mathtt{net}_j) = \\sigma(\\sum_{i=0}^{N_i}{w_{ij}x_i}) $  \n",
    "$y_k = \\sigma(\\mathtt{net}_k) = \\sigma(\\sum_{j=0}^{N_j}{w_{jk}h_j}) $  \n"
   ]
  },
  {
   "cell_type": "code",
   "execution_count": null,
   "metadata": {
    "collapsed": true
   },
   "outputs": [],
   "source": []
  },
  {
   "cell_type": "code",
   "execution_count": null,
   "metadata": {
    "collapsed": true
   },
   "outputs": [],
   "source": []
  }
 ],
 "metadata": {
  "kernelspec": {
   "display_name": "Python [theano]",
   "language": "python",
   "name": "Python [theano]"
  },
  "language_info": {
   "codemirror_mode": {
    "name": "ipython",
    "version": 2
   },
   "file_extension": ".py",
   "mimetype": "text/x-python",
   "name": "python",
   "nbconvert_exporter": "python",
   "pygments_lexer": "ipython2",
   "version": "2.7.12"
  }
 },
 "nbformat": 4,
 "nbformat_minor": 0
}
