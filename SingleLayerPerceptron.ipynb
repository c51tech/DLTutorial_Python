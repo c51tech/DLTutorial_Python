{
 "cells": [
  {
   "cell_type": "markdown",
   "metadata": {},
   "source": [
    "# Single Layer Perceptron"
   ]
  },
  {
   "cell_type": "code",
   "execution_count": 7,
   "metadata": {
    "collapsed": false
   },
   "outputs": [
    {
     "data": {
      "text/plain": [
       "<matplotlib.axes._subplots.AxesSubplot at 0x7f9b8df8a090>"
      ]
     },
     "execution_count": 7,
     "metadata": {},
     "output_type": "execute_result"
    },
    {
     "data": {
      "image/png": "[encoded data removed]",
      "text/plain": [
       "<matplotlib.figure.Figure at 0x7f9b8df001d0>"
      ]
     },
     "metadata": {},
     "output_type": "display_data"
    }
   ],
   "source": [
    "%matplotlib inline\n",
    "\n",
    "import numpy as np\n",
    "from numpy import random\n",
    "import matplotlib.pyplot as plt \n",
    "import matplotlib.colors as colors\n",
    "import matplotlib.cm as cm \n",
    "\n",
    "# Generate 2D data\n",
    "N = 100\n",
    "\n",
    "random.seed(5)\n",
    "\n",
    "Yes = np.zeros([N/2, 2])\n",
    "Yes1 = np.random.multivariate_normal([4, 0], [[0.3, 0], [0, 2]], N/4)\n",
    "Yes2 = np.random.multivariate_normal([2, 2], [[2, 0], [0, 0.3]], N/4)\n",
    "Yes[:N/4, :] = Yes1\n",
    "Yes[N/4:, :] = Yes2\n",
    "\n",
    "No = np.random.multivariate_normal([1.5, -0.5], [[0.5, 0], [0, 0.5]], N/2)\n",
    "\n",
    "x = np.zeros([Yes.shape[0] + No.shape[0], 2])\n",
    "x[:N/2, :2] = Yes\n",
    "x[N/2:, :2] = No\n",
    "\n",
    "y = np.zeros([Yes.shape[0] + No.shape[0], 1])\n",
    "y[:N/2, 0] = 1\n",
    "\n",
    "#y = np.zeros(Yes.shape[0] + No.shape[0])\n",
    "#y[:N/2] = 1\n",
    "\n",
    "\n",
    "\n",
    "\n",
    "def plot_bi_data(x, y, title = u'',\n",
    "                       markers = [u'x', u'o'], \n",
    "                       colors = ['r', 'b'], \n",
    "                       labels = [u'N', u'Y'],\n",
    "                       ax = None):\n",
    "    idx = [0, 0]\n",
    "    for i in range(2):\n",
    "        idx[i] = (np.where(y==i)[0])\n",
    "    \n",
    "    if (ax == None):\n",
    "        ax = plt.figure().add_subplot(111)\n",
    "        \n",
    "    for i in (1, 0):\n",
    "        ax.plot(x[idx[i],0], x[idx[i],1], markers[i], \n",
    "                                          color=colors[i], \n",
    "                                          label= labels[i]) \n",
    "    ax.set_title(title)\n",
    "    ax.legend()\n",
    "    \n",
    "    return ax\n",
    "    \n",
    "plot_bi_data(x, y, title='Data')\n",
    "\n"
   ]
  },
  {
   "cell_type": "code",
   "execution_count": 18,
   "metadata": {
    "collapsed": false
   },
   "outputs": [
    {
     "name": "stdout",
     "output_type": "stream",
     "text": [
      "[-1.         -0.95918367 -0.91836735 -0.87755102 -0.83673469]\n",
      "[ 0.          0.          0.          0.          0.          0.          0.\n",
      "  0.          0.          0.          0.          0.          0.          0.\n",
      "  0.          0.          0.          0.          0.          0.          0.\n",
      "  0.          0.          0.          0.          0.02040816  0.06122449\n",
      "  0.10204082  0.14285714  0.18367347  0.2244898   0.26530612  0.30612245\n",
      "  0.34693878  0.3877551   0.42857143  0.46938776  0.51020408  0.55102041\n",
      "  0.59183673  0.63265306  0.67346939  0.71428571  0.75510204  0.79591837\n",
      "  0.83673469  0.87755102  0.91836735  0.95918367  1.        ]\n"
     ]
    },
    {
     "data": {
      "image/png": "[encoded data removed]",
      "text/plain": [
       "<matplotlib.figure.Figure at 0x7f26b1ee82d0>"
      ]
     },
     "metadata": {},
     "output_type": "display_data"
    }
   ],
   "source": [
    "%matplotlib inline\n",
    "\n",
    "import numpy as np\n",
    "from numpy import random\n",
    "import matplotlib.pyplot as plt \n",
    "import matplotlib.colors as colors\n",
    "import matplotlib.cm as cm \n",
    "\n",
    "\n",
    "def sigmoid(x):\n",
    "    return 1 / (1 + np.exp(-x))\n",
    "\n",
    "def tanh(x):\n",
    "    return (1 - np.exp(-2 * x)) / (1 + np.exp(-2 * x))\n",
    "\n",
    "def lin(x):\n",
    "    return x\n",
    "\n",
    "def ReLU(x):\n",
    "    return np.maximum(x, 0, x)\n",
    "\n",
    "xx = np.linspace(-1, 1)\n",
    "\n",
    "print xx[:5]\n",
    "print ReLU(xx)\n",
    "\n",
    "ax = plt.figure().add_subplot(111)\n",
    "\n",
    "#plt.plot(xx, sigmoid(xx), label='sigmoid')\n",
    "#plt.plot(xx, tanh(xx), label='tanh')\n",
    "#plt.plot(xx, lin(xx), label='linear')\n",
    "#plt.plot(xx, ReLU(xx), label='ReLU')\n",
    "ax.plot(np.matrix(xx[:5])[0,:].T, [0, 0, 0, 0, 0], label='ReLU')\n",
    "#ax.plot([-1., -0.95918367, -0.91836735, -0.87755102], [0, 0, 0, 0], label='ReLU')\n",
    "ax.axis([-1, 1, -1, 1])\n",
    "ax.legend(loc=2)\n",
    "plt.show()\n",
    "def grad_sigmoid(x, o = None):\n",
    "    if o == None:\n",
    "        o = sigmoid(x)\n",
    "        \n",
    "    return np.multiply(o, (1 - o))\n",
    "\n",
    "def grad_tanh(x, o = None):\n",
    "    if o == None:\n",
    "        o = sigmoid(x)\n",
    "        \n",
    "    return np.multiply(o, (1 - o))\n",
    "\n",
    "def grad_lin(x):\n",
    "    return 1\n",
    "\n",
    "def grad_ReLU(x):\n",
    "    return x >= 0"
   ]
  },
  {
   "cell_type": "code",
   "execution_count": 16,
   "metadata": {
    "collapsed": false
   },
   "outputs": [
    {
     "data": {
      "text/plain": [
       "matrix([[ 0.,  0.,  0.,  0.,  0.]])"
      ]
     },
     "execution_count": 16,
     "metadata": {},
     "output_type": "execute_result"
    }
   ],
   "source": [
    "np.matrix(xx[:5])"
   ]
  },
  {
   "cell_type": "code",
   "execution_count": null,
   "metadata": {
    "collapsed": true
   },
   "outputs": [],
   "source": []
  }
 ],
 "metadata": {
  "kernelspec": {
   "display_name": "Python [theano]",
   "language": "python",
   "name": "Python [theano]"
  },
  "language_info": {
   "codemirror_mode": {
    "name": "ipython",
    "version": 2
   },
   "file_extension": ".py",
   "mimetype": "text/x-python",
   "name": "python",
   "nbconvert_exporter": "python",
   "pygments_lexer": "ipython2",
   "version": "2.7.12"
  }
 },
 "nbformat": 4,
 "nbformat_minor": 0
}
