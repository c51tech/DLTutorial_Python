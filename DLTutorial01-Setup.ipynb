{
 "cells": [
  {
   "cell_type": "markdown",
   "metadata": {},
   "source": [
    "# 11Deep Learning Tutorial 01: Setup (Ch1 ~ Ch5)\n",
    "\n",
    "from Deep Learning with Python by Jason Brownlee (2016)\n",
    "[e-book](https://machinelearningmastery.com/deep-learning-with-python/)\n",
    "[요약](http://machinelearningmastery.com/introduction-python-deep-learning-library-keras/)"
   ]
  },
  {
   "cell_type": "markdown",
   "metadata": {},
   "source": [
    "# Chapter 2 Introduction to Theano\n",
    "### 2.2 How to Install Theano\n",
    "\n",
    ">$ conda create -n theano numpy=1.10 pandas scikit-learn jupyter\n",
    "\n",
    ">$ source activate theano\n",
    "\n",
    ">(theano)$ pip install Theano"
   ]
  },
  {
   "cell_type": "markdown",
   "metadata": {},
   "source": [
    "### 2.3 Simple Theano Example"
   ]
  },
  {
   "cell_type": "code",
   "execution_count": 17,
   "metadata": {
    "collapsed": true
   },
   "outputs": [],
   "source": [
    "# 에러메시지가 없으면 Theano 정상설치\n",
    "import theano"
   ]
  },
  {
   "cell_type": "code",
   "execution_count": 18,
   "metadata": {
    "collapsed": true
   },
   "outputs": [],
   "source": [
    "from theano import tensor\n",
    "a = tensor.dscalar()\n",
    "b = tensor.dscalar()"
   ]
  },
  {
   "cell_type": "markdown",
   "metadata": {},
   "source": [
    "a 와 b는 simbolic 즉 값이 없는 기호일 뿐입니다."
   ]
  },
  {
   "cell_type": "code",
   "execution_count": 19,
   "metadata": {
    "collapsed": false
   },
   "outputs": [
    {
     "data": {
      "text/plain": [
       "(<TensorType(float64, scalar)>, <TensorType(float64, scalar)>)"
      ]
     },
     "execution_count": 19,
     "metadata": {},
     "output_type": "execute_result"
    }
   ],
   "source": [
    "a, b"
   ]
  },
  {
   "cell_type": "markdown",
   "metadata": {},
   "source": [
    "그래서 아래와 같이 수식을 정의하는데 사용할 수 있습니다."
   ]
  },
  {
   "cell_type": "code",
   "execution_count": 20,
   "metadata": {
    "collapsed": true
   },
   "outputs": [],
   "source": [
    "c = a + b"
   ]
  },
  {
   "cell_type": "code",
   "execution_count": 21,
   "metadata": {
    "collapsed": false
   },
   "outputs": [
    {
     "data": {
      "text/plain": [
       "Elemwise{add,no_inplace}.0"
      ]
     },
     "execution_count": 21,
     "metadata": {},
     "output_type": "execute_result"
    }
   ],
   "source": [
    "c"
   ]
  },
  {
   "cell_type": "markdown",
   "metadata": {},
   "source": [
    "정의된 수식과 수식에 들어가는 입력을 가지고 실제로 계산할 수 있는 함수 function f를 compile 합니다."
   ]
  },
  {
   "cell_type": "code",
   "execution_count": 22,
   "metadata": {
    "collapsed": true
   },
   "outputs": [],
   "source": [
    "f = theano.function([a,b], c)"
   ]
  },
  {
   "cell_type": "code",
   "execution_count": 23,
   "metadata": {
    "collapsed": false
   },
   "outputs": [
    {
     "data": {
      "text/plain": [
       "<theano.compile.function_module.Function at 0x7f97773e36d0>"
      ]
     },
     "execution_count": 23,
     "metadata": {},
     "output_type": "execute_result"
    }
   ],
   "source": [
    "f"
   ]
  },
  {
   "cell_type": "markdown",
   "metadata": {},
   "source": [
    "f 에 a와 b의 실제 값을 입력하면 계산이 실행됩니다."
   ]
  },
  {
   "cell_type": "code",
   "execution_count": 24,
   "metadata": {
    "collapsed": false
   },
   "outputs": [
    {
     "name": "stdout",
     "output_type": "stream",
     "text": [
      "30.5\n"
     ]
    }
   ],
   "source": [
    "print f(10.5,20)"
   ]
  },
  {
   "cell_type": "markdown",
   "metadata": {},
   "source": [
    "더 복잡한 수식들도 실습해봅시다."
   ]
  },
  {
   "cell_type": "code",
   "execution_count": 25,
   "metadata": {
    "collapsed": false
   },
   "outputs": [
    {
     "name": "stdout",
     "output_type": "stream",
     "text": [
      "3.0\n"
     ]
    }
   ],
   "source": [
    "f1 = theano.function([a, b], 2 * a ** 2 + 4 * a - b)\n",
    "print f(2 , 1)"
   ]
  },
  {
   "cell_type": "markdown",
   "metadata": {},
   "source": [
    "## Chapter 4 Introduction to Keras"
   ]
  },
  {
   "cell_type": "markdown",
   "metadata": {},
   "source": [
    "### 4.2 How to Install Keras\n",
    "\n",
    ">(theano)$ pip install keras\n",
    "\n",
    "설치 후 버전 확인\n",
    "> python -c \"import keras; print keras.\\__version\\__\""
   ]
  },
  {
   "cell_type": "markdown",
   "metadata": {},
   "source": [
    "### 4.3 Theano and TensorFlow Backends for Keras\n",
    "\n",
    "설치된 theano와 연동하기 위해 __~/.keras/keras.json__ 설정파일을 아래와 같이 수정하세요.\n",
    "\n",
    "~~~\n",
    "{\n",
    "    \"image_dim_ordering\": \"th\",\n",
    "    \"epsilon\": 1e-07,\n",
    "    \"floatx\": \"float32\",\n",
    "    \"backend\": \"theano\"\n",
    "}\n",
    "~~~"
   ]
  },
  {
   "cell_type": "code",
   "execution_count": 7,
   "metadata": {
    "collapsed": false
   },
   "outputs": [
    {
     "name": "stdout",
     "output_type": "stream",
     "text": [
      "theano\n"
     ]
    }
   ],
   "source": [
    "from keras import backend\n",
    "print backend._BACKEND"
   ]
  },
  {
   "cell_type": "markdown",
   "metadata": {
    "collapsed": true
   },
   "source": [
    "### 4.4 Build Deep Learning Models with Keras\n",
    "\n",
    "\n",
    "1. 모델 정의: Keras가 다루는 모델의 Type은 layer들을 순서대로 쌓아놓은 __Sequential__ 입니다. __Sequential__을 선언하고 layer를 추가하세요.\n",
    "2. 모델 컴파일: 원하는 loss function이나 최적화 기법을 선택하고 __compile()__ 함수를 통해 Theano나 Tensorflow에섯 계산 가능한 형태로 컴파일합니다.\n",
    "3. 모델 학습: __fit()__ 함수로 모델을 학습합니다.\n",
    "4. 예측: 학습된 모델에 __evaluate()__나 __prediction()__ 함수를 사용해 새 데이터에 대한 예측값을 계산합니다."
   ]
  },
  {
   "cell_type": "markdown",
   "metadata": {},
   "source": [
    "## Chapter 5 Project: Develop Large Models on GPUs Cheaply In the Cloud"
   ]
  },
  {
   "cell_type": "markdown",
   "metadata": {},
   "source": [
    "Stanford 대학 CS231n 수업에서 사용한 __ami-125b2c72__ instance image로 손쉽게 GPU가 장착된 AWS deep learning 서버를 설정하고 사용해보자.\n",
    "\n",
    "1. AWS에 계정 만들기\n",
    "2. AWS서버에 Login\n",
    "3. __EC2__ 선택\n",
    "4. 오른쪽 위 드롭박스에서 __N.Califonia__ 선택 (CS231n수업 인스턴스가 이 지역에서만 사용 가능함)\n",
    "5. __Launch Instance__ 버튼 클릭\n",
    "6. __Community AMIs__를 선택하고 검색창에 __ami-125b2c72__ 를 입력한다.\n",
    "7. __Select__ 클릭\n",
    "8. GPU instance인 __g2.2xlarge__ 를 선택하고 __Review and Launch__를 클릭\n",
    "9. __Launch__ 클릭\n",
    "10. Key Pair를 선택한다. 만약 기존 AWS Key Pair 가 없다면 __Create a New Key Pair__를 선택하고 키 이름을 입력한 다음 안전한 위치에 Key를 다운로드 한다.\n",
    "11. __Launch Instances__ 클릭. 만약 처음 AWS를 이용한다면 계정 검증을 위해 최대 2시간을 기다린다.\n",
    "12. __View Instances__ 클릭"
   ]
  },
  {
   "cell_type": "code",
   "execution_count": null,
   "metadata": {
    "collapsed": true
   },
   "outputs": [],
   "source": []
  }
 ],
 "metadata": {
  "kernelspec": {
   "display_name": "Python [theano]",
   "language": "python",
   "name": "Python [theano]"
  },
  "language_info": {
   "codemirror_mode": {
    "name": "ipython",
    "version": 2
   },
   "file_extension": ".py",
   "mimetype": "text/x-python",
   "name": "python",
   "nbconvert_exporter": "python",
   "pygments_lexer": "ipython2",
   "version": "2.7.12"
  }
 },
 "nbformat": 4,
 "nbformat_minor": 0
}
