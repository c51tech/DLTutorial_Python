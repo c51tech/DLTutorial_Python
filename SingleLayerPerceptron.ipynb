{
 "cells": [
  {
   "cell_type": "markdown",
   "metadata": {},
   "source": [
    "# Single Layer Perceptron"
   ]
  },
  {
   "cell_type": "code",
   "execution_count": 6,
   "metadata": {
    "collapsed": false
   },
   "outputs": [
    {
     "data": {
      "text/plain": [
       "<matplotlib.axes._subplots.AxesSubplot at 0x7faab6303b90>"
      ]
     },
     "execution_count": 6,
     "metadata": {},
     "output_type": "execute_result"
    },
    {
     "data": {
      "image/png": "[encoded data removed]",
      "text/plain": [
       "<matplotlib.figure.Figure at 0x7faab8d59110>"
      ]
     },
     "metadata": {},
     "output_type": "display_data"
    }
   ],
   "source": [
    "%matplotlib inline\n",
    "\n",
    "import numpy as np\n",
    "from numpy import random\n",
    "import matplotlib.pyplot as plt \n",
    "import matplotlib.colors as colors\n",
    "import matplotlib.cm as cm \n",
    "\n",
    "# Generate 2D data\n",
    "N = 100\n",
    "\n",
    "random.seed(5)\n",
    "\n",
    "Yes = np.zeros([N/2, 2])\n",
    "Yes1 = np.random.multivariate_normal([4, 0], [[0.3, 0], [0, 2]], N/4)\n",
    "Yes2 = np.random.multivariate_normal([2, 2], [[2, 0], [0, 0.3]], N/4)\n",
    "Yes[:N/4, :] = Yes1\n",
    "Yes[N/4:, :] = Yes2\n",
    "\n",
    "No = np.random.multivariate_normal([1.5, -0.5], [[0.5, 0], [0, 0.5]], N/2)\n",
    "\n",
    "x = np.zeros([Yes.shape[0] + No.shape[0], 2])\n",
    "x[:N/2, :2] = Yes\n",
    "x[N/2:, :2] = No\n",
    "\n",
    "y = np.append(np.ones(Yes.shape[0]),np.zeros(No.shape[0]))\n",
    "\n",
    "\n",
    "\n",
    "\n",
    "def plot_bi_data(x, y, title = u'',\n",
    "                       markers = [u'x', u'o'], \n",
    "                       colors = ['r', 'b'], \n",
    "                       labels = [u'N', u'Y'],\n",
    "                       ax = None):\n",
    "    idx = [0, 0]\n",
    "    for i in range(2):\n",
    "        idx[i] = (np.where(y==i)[0])\n",
    "    \n",
    "    if (ax == None):\n",
    "        ax = plt.figure().add_subplot(111)\n",
    "        \n",
    "    for i in (1, 0):\n",
    "        ax.plot(x[idx[i],0], x[idx[i],1], markers[i], \n",
    "                                          color=colors[i], \n",
    "                                          label= labels[i]) \n",
    "    ax.set_title(title)\n",
    "    ax.legend()\n",
    "    \n",
    "    return ax\n",
    "    \n",
    "plot_bi_data(x, y, title='Data')\n",
    "\n"
   ]
  },
  {
   "cell_type": "code",
   "execution_count": 7,
   "metadata": {
    "collapsed": false
   },
   "outputs": [
    {
     "data": {
      "image/png": "[encoded data removed]",
      "text/plain": [
       "<matplotlib.figure.Figure at 0x7faab61cf490>"
      ]
     },
     "metadata": {},
     "output_type": "display_data"
    }
   ],
   "source": [
    "%matplotlib inline\n",
    "\n",
    "import numpy as np\n",
    "from numpy import random\n",
    "import matplotlib.pyplot as plt \n",
    "import matplotlib.colors as colors\n",
    "import matplotlib.cm as cm \n",
    "\n",
    "\n",
    "def sigmoid(x):\n",
    "    return 1 / (1 + np.exp(-x))\n",
    "\n",
    "def tanh(x):\n",
    "    return (1 - np.exp(-2 * x)) / (1 + np.exp(-2 * x))\n",
    "\n",
    "def lin(x):\n",
    "    return x\n",
    "\n",
    "def ReLU(x):\n",
    "    return np.maximum(0, x)\n",
    "\n",
    "xx = np.linspace(-3, 3)\n",
    "xx1 = np.linspace(-1, 1)\n",
    "xx2 = np.linspace(-3, 1)\n",
    "\n",
    "ax = plt.figure().add_subplot(111)\n",
    "ax.plot(xx, sigmoid(xx), label='sigmoid')\n",
    "ax.plot(xx, tanh(xx), label='tanh')\n",
    "ax.plot(xx1, lin(xx1), '--', label='linear')\n",
    "ax.plot(xx2, ReLU(xx2), '.', label='ReLU')\n",
    "ax.axis([-2, 2, -1, 1])\n",
    "#ax.axis('equal')\n",
    "ax.legend(loc=4)\n",
    "ax.set_title(u'Activation Functions', fontsize=15)\n",
    "plt.show()"
   ]
  },
  {
   "cell_type": "code",
   "execution_count": 25,
   "metadata": {
    "collapsed": true
   },
   "outputs": [],
   "source": [
    "def plot_DecisionBoundary(x, clf, opt):\n",
    "    x0_min, x0_max = x[:, 0].min() - 1, x[:, 0].max() + 1\n",
    "    x1_min, x1_max = x[:, 1].min() - 1, x[:, 1].max() + 1\n",
    "    \n",
    "    h = 0.05\n",
    "    xx0, xx1 = np.meshgrid(np.arange(x0_min, x0_max, h),\n",
    "                         np.arange(x1_min, x1_max, h))\n",
    "    \n",
    "    yy = clf(np.c_[xx0.ravel(), xx1.ravel()], opt)\n",
    "    yy = yy.reshape(xx0.shape)\n",
    "    \n",
    "    ax = plt.figure().add_subplot(111)\n",
    "    ax.contourf(xx0, xx1, yy, cmap=cmap)\n",
    "    \n",
    "    return ax\n",
    "\n",
    "def plot_GD(x, y, clf, opt):\n",
    "    ax = plot_DecisionBoundary(x, clf, opt)\n",
    "    ax = plot_bi_data(x, y, ax=ax)\n",
    "    \n",
    "    return ax"
   ]
  },
  {
   "cell_type": "code",
   "execution_count": 26,
   "metadata": {
    "collapsed": true
   },
   "outputs": [],
   "source": [
    "def grad_sigmoid(x, o = None):\n",
    "    if o == None:\n",
    "        o = sigmoid(x)\n",
    "        \n",
    "    return np.multiply(o, (1 - o))\n",
    "\n",
    "def grad_tanh(x, o = None):\n",
    "    if o == None:\n",
    "        o = sigmoid(x)\n",
    "        \n",
    "    return np.multiply(o, (1 - o))\n",
    "\n",
    "def grad_lin(x, o = None):\n",
    "    return 1\n",
    "\n",
    "def grad_ReLU(x, o = None):\n",
    "    return x >= 0"
   ]
  },
  {
   "cell_type": "code",
   "execution_count": 47,
   "metadata": {
    "collapsed": false
   },
   "outputs": [],
   "source": [
    "def evaluate(x, w, actFn, nargout=1):\n",
    "    X = np.hstack((np.ones([x.shape[0], 1]), x))\n",
    "    a = np.dot(X, w)\n",
    "    o = actFn(a)\n",
    "    if nargout == 1:\n",
    "        return o\n",
    "    elif nargout == 2:\n",
    "        return o, a\n",
    "    else:\n",
    "        raise ValueError, \"Invalid nargout!\"\n",
    "\n",
    "def classify(x, opt = {'w':np.array([0, 1, 1]), 'actFn':sigmoid}, classes=[-1, 1]):\n",
    "    o = evaluate(x, opt['w'], opt['actFn'])\n",
    "    \n",
    "    c = np.ones_like(o) * classes[1]\n",
    "    \n",
    "    actFn = opt['actFn']\n",
    "    \n",
    "    if actFn is sigmoid:\n",
    "        c[o < 0.5] = classes[0]\n",
    "    else:\n",
    "        c[o < 0] = classes[0]\n",
    "    return c\n",
    "\n",
    "def lossFn(x, y, w, actFn):\n",
    "    o = evaluate(x, w, actFn)\n",
    "    e = y - o\n",
    "    return 0.5 * np.power(e, 2)\n",
    "\n",
    "def grad(x, y, w, actFn, gradFn):\n",
    "    o = evaluate(x, w, actFn)\n",
    "    e = y - o\n",
    "    g = gradFn(x)\n",
    "\n",
    "def learn(x, y, epoch, mu, actFn=sigmoid, gradFn=grad_sigmoid, M=1, initW = 0.1):\n",
    "    D = x.shape[1]\n",
    "    \n",
    "    w = random.randn(D + 1, M) * initW\n",
    "    \n",
    "    for i in range(epoch):\n",
    "        dE_dw = grad(x, y, w, actFn, gradFn)\n",
    "        \n",
    "        if (i % (epoch / 10) == 0):\n",
    "            E = lossFn(x, y, w, actFn)\n",
    "            plot_GD(x, y, classify, opt={'w':w, 'actFn':actFn})\n",
    "            \n",
    "        w -= mu * dE_dw\n",
    "    \n",
    "    return w\n",
    "\n",
    "\n",
    "\n",
    "\n"
   ]
  },
  {
   "cell_type": "code",
   "execution_count": 48,
   "metadata": {
    "collapsed": false
   },
   "outputs": [
    {
     "data": {
      "text/plain": [
       "array([ 1.,  1.,  1.,  1.,  1.,  1.,  1.,  1.,  1.,  1.,  1.,  1.,  1.,\n",
       "        1.,  1.,  1.,  1.,  1.,  1.,  1.,  1.,  1.,  1.,  1.,  1.,  1.,\n",
       "        1.,  1.,  1.,  1.,  1.,  1.,  1.,  1.,  1.,  1.,  1.,  1.,  1.,\n",
       "        1.,  1.,  1.,  1.,  1.,  1.,  1.,  1.,  1.,  1.,  1.,  1.,  1.,\n",
       "        1.,  1.,  1.,  1.,  1., -1.,  1., -1.,  1., -1., -1., -1.,  1.,\n",
       "        1.,  1.,  1.,  1.,  1.,  1.,  1.,  1.,  1., -1.,  1.,  1.,  1.,\n",
       "        1.,  1.,  1.,  1.,  1.,  1., -1.,  1.,  1.,  1., -1.,  1.,  1.,\n",
       "        1.,  1.,  1., -1.,  1.,  1.,  1.,  1.,  1.])"
      ]
     },
     "execution_count": 48,
     "metadata": {},
     "output_type": "execute_result"
    }
   ],
   "source": [
    "classify(x)\n"
   ]
  },
  {
   "cell_type": "code",
   "execution_count": 51,
   "metadata": {
    "collapsed": false
   },
   "outputs": [
    {
     "ename": "ValueError",
     "evalue": "too many values to unpack",
     "output_type": "error",
     "traceback": [
      "\u001b[1;31m---------------------------------------------------------------------------\u001b[0m",
      "\u001b[1;31mValueError\u001b[0m                                Traceback (most recent call last)",
      "\u001b[1;32m<ipython-input-51-409dafc408e7>\u001b[0m in \u001b[0;36m<module>\u001b[1;34m()\u001b[0m\n\u001b[1;32m----> 1\u001b[1;33m \u001b[1;33m(\u001b[0m\u001b[0mo\u001b[0m\u001b[1;33m,\u001b[0m \u001b[0ma\u001b[0m\u001b[1;33m)\u001b[0m \u001b[1;33m=\u001b[0m \u001b[0mevaluate\u001b[0m\u001b[1;33m(\u001b[0m\u001b[0mx\u001b[0m\u001b[1;33m,\u001b[0m \u001b[0mnp\u001b[0m\u001b[1;33m.\u001b[0m\u001b[0marray\u001b[0m\u001b[1;33m(\u001b[0m\u001b[1;33m[\u001b[0m\u001b[1;36m0\u001b[0m\u001b[1;33m,\u001b[0m \u001b[1;36m1\u001b[0m\u001b[1;33m,\u001b[0m \u001b[1;36m1\u001b[0m\u001b[1;33m]\u001b[0m\u001b[1;33m)\u001b[0m\u001b[1;33m,\u001b[0m \u001b[0msigmoid\u001b[0m\u001b[1;33m)\u001b[0m\u001b[1;33m\u001b[0m\u001b[0m\n\u001b[0m\u001b[0;32m      2\u001b[0m \u001b[1;32mprint\u001b[0m \u001b[0mo\u001b[0m\u001b[1;33m\u001b[0m\u001b[0m\n",
      "\u001b[1;31mValueError\u001b[0m: too many values to unpack"
     ]
    }
   ],
   "source": [
    "o, a = evaluate(x, np.array([0, 1, 1]), sigmoid)\n",
    "print o"
   ]
  },
  {
   "cell_type": "code",
   "execution_count": 22,
   "metadata": {
    "collapsed": false
   },
   "outputs": [
    {
     "data": {
      "text/plain": [
       "(100, 2)"
      ]
     },
     "execution_count": 22,
     "metadata": {},
     "output_type": "execute_result"
    }
   ],
   "source": [
    "x.shape"
   ]
  },
  {
   "cell_type": "code",
   "execution_count": 78,
   "metadata": {
    "collapsed": false
   },
   "outputs": [
    {
     "data": {
      "text/plain": [
       "array([ 0.32031571,  0.43042752,  0.33297512,  0.24887415,  0.30710376,\n",
       "        0.24101329,  0.29336149,  0.21318694,  0.39419657,  0.23801563,\n",
       "        0.24183034,  0.25303109,  0.36684022,  0.29997195,  0.30104694,\n",
       "        0.33418733,  0.30063455,  0.30363846,  0.33372889,  0.32224084,\n",
       "        0.27979099,  0.31321367,  0.33688462,  0.37110253,  0.28389114,\n",
       "        0.38278317,  0.25520122,  0.31944312,  0.36183659,  0.34889878,\n",
       "        0.32152105,  0.29329545,  0.34289117,  0.36701553,  0.22645474,\n",
       "        0.27592769,  0.38627529,  0.24755196,  0.35105066,  0.2907259 ,\n",
       "        0.41436417,  0.36634962,  0.3839446 ,  0.28691644,  0.27539414,\n",
       "        0.35598537,  0.30225985,  0.31143645,  0.29201222,  0.34997149,\n",
       "        0.26257717,  0.30004696,  0.24776614,  0.23691934,  0.2873781 ,\n",
       "        0.2931758 ,  0.27317371,  0.35953772,  0.22063994,  0.31134124,\n",
       "        0.24024044,  0.32584438,  0.33670907,  0.34778603,  0.30726985,\n",
       "        0.30904868,  0.31051948,  0.22589215,  0.22694881,  0.23302666,\n",
       "        0.21593539,  0.27435762,  0.29073231,  0.28499872,  0.33313581,\n",
       "        0.24440674,  0.29262821,  0.26315815,  0.24113585,  0.30592751,\n",
       "        0.28053168,  0.26921115,  0.28237418,  0.27870022,  0.31635187,\n",
       "        0.28988758,  0.24417337,  0.27036323,  0.34507797,  0.27861013,\n",
       "        0.27934331,  0.29020304,  0.30650822,  0.28297318,  0.32151561,\n",
       "        0.24923593,  0.25895587,  0.27831032,  0.28734675,  0.24972243])"
      ]
     },
     "execution_count": 78,
     "metadata": {},
     "output_type": "execute_result"
    }
   ],
   "source": [
    "np.power(sigmoid(a) - y, 2)\n"
   ]
  },
  {
   "cell_type": "code",
   "execution_count": null,
   "metadata": {
    "collapsed": true
   },
   "outputs": [],
   "source": []
  }
 ],
 "metadata": {
  "kernelspec": {
   "display_name": "Python [theano]",
   "language": "python",
   "name": "Python [theano]"
  },
  "language_info": {
   "codemirror_mode": {
    "name": "ipython",
    "version": 2
   },
   "file_extension": ".py",
   "mimetype": "text/x-python",
   "name": "python",
   "nbconvert_exporter": "python",
   "pygments_lexer": "ipython2",
   "version": "2.7.12"
  }
 },
 "nbformat": 4,
 "nbformat_minor": 0
}
