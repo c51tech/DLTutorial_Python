{
 "cells": [
  {
   "cell_type": "markdown",
   "metadata": {},
   "source": [
    "# Deep Learning Tutorial 03: Advanced MLP - Save Models (Ch13)\n",
    "\n",
    "from Deep Learning with Python by Jason Brownlee (2016)\n",
    "[e-book](https://machinelearningmastery.com/deep-learning-with-python/)\n",
    "[요약](http://machinelearningmastery.com/introduction-python-deep-learning-library-keras/)"
   ]
  },
  {
   "cell_type": "markdown",
   "metadata": {},
   "source": [
    "# Chapter 13 Save Your Models For Later With Serialization\n",
    "\n",
    "- Save and load Keras model weights to HDF5 formatted files\n",
    "- Save and load Keras model structure to JSON formatted files\n",
    "- Save and load Keras model structure to YAML formatted files"
   ]
  },
  {
   "cell_type": "markdown",
   "metadata": {
    "collapsed": true
   },
   "source": [
    "## 13.1 Tutorial Overview\n",
    "### 13.1.1 HDF5 Format\n",
    "\n",
    "install Hierarchical Data Format(HDF5)\n",
    "\n",
    ">$ pip install h5py"
   ]
  },
  {
   "cell_type": "markdown",
   "metadata": {},
   "source": [
    "## 13.2 Save Your Neural Network Model to JSON"
   ]
  },
  {
   "cell_type": "code",
   "execution_count": 20,
   "metadata": {
    "collapsed": false
   },
   "outputs": [
    {
     "name": "stdout",
     "output_type": "stream",
     "text": [
      "acc: 78.91%\n",
      "Saved model to disk\n",
      "Loaded model from disk\n",
      "acc: 78.91%\n"
     ]
    }
   ],
   "source": [
    "!rm ./models/model.*\n",
    "\n",
    "# MLP for Pima Indians Dataset Serialize to JSON and HDF5\n",
    "from keras.models import Sequential\n",
    "from keras.layers import Dense\n",
    "from keras.models import model_from_json\n",
    "import numpy\n",
    "import os\n",
    "# fix random seed for reproducibility\n",
    "seed = 7\n",
    "numpy.random.seed(seed)\n",
    "# load pima indians dataset\n",
    "dataset = numpy.loadtxt(os.path.expanduser(\"~/Downloads/pima-indians-diabetes.csv\"), delimiter=\",\")\n",
    "# split into input (X) and output (Y) variables\n",
    "X = dataset[:,0:8]\n",
    "Y = dataset[:,8]\n",
    "# create model\n",
    "model = Sequential()\n",
    "model.add(Dense(12, input_dim=8, init='uniform', activation='relu'))\n",
    "model.add(Dense(8, init='uniform', activation='relu'))\n",
    "model.add(Dense(1, init='uniform', activation='sigmoid'))\n",
    "# Compile model\n",
    "model.compile(loss='binary_crossentropy', optimizer='adam', metrics=['accuracy'])\n",
    "# Fit the model\n",
    "model.fit(X, Y, nb_epoch=150, batch_size=10, verbose=0)\n",
    "# evaluate the model\n",
    "scores = model.evaluate(X, Y, verbose=0)\n",
    "print(\"%s: %.2f%%\" % (model.metrics_names[1], scores[1]*100))\n",
    "\n",
    "# serialize model to JSON\n",
    "model_json = model.to_json()\n",
    "with open(\"./models/model.json\", \"w\") as json_file:\n",
    "    json_file.write(model_json)\n",
    "    \n",
    "# serialize weights to HDF5\n",
    "model.save_weights(\"./models/model.h5\")\n",
    "print(\"Saved model to disk\")\n",
    "\n",
    "\n",
    "\n",
    "# later...\n",
    "# load json and create model\n",
    "json_file = open('./models/model.json', 'r')\n",
    "loaded_model_json = json_file.read()\n",
    "json_file.close()\n",
    "loaded_model = model_from_json(loaded_model_json)\n",
    "\n",
    "# load weights into new model\n",
    "loaded_model.load_weights(\"./models/model.h5\")\n",
    "print(\"Loaded model from disk\")\n",
    "\n",
    "# evaluate loaded model on test data\n",
    "loaded_model.compile(loss='binary_crossentropy', optimizer='rmsprop', metrics=['accuracy'])\n",
    "score = loaded_model.evaluate(X, Y, verbose=0)\n",
    "print \"%s: %.2f%%\" % (loaded_model.metrics_names[1], score[1]*100)"
   ]
  },
  {
   "cell_type": "code",
   "execution_count": 21,
   "metadata": {
    "collapsed": false
   },
   "outputs": [
    {
     "name": "stdout",
     "output_type": "stream",
     "text": [
      "total 156\r\n",
      "drwxrwxr-x 2 kikim kikim 4096  7월  7 14:09 .\r\n",
      "drwxrwxr-x 5 kikim kikim 4096  7월  7 14:08 ..\r\n",
      "-rw-rw-r-- 1 kikim kikim 8448  7월  7 14:09 model.h5\r\n",
      "-rw-rw-r-- 1 kikim kikim 1183  7월  7 14:09 model.json\r\n",
      "-rw-rw-r-- 1 kikim kikim 8448  7월  7 14:06 weights-improvement-00-0.67.hdf5\r\n",
      "-rw-rw-r-- 1 kikim kikim 8448  7월  7 14:06 weights-improvement-04-0.69.hdf5\r\n",
      "-rw-rw-r-- 1 kikim kikim 8448  7월  7 14:06 weights-improvement-115-0.76.hdf5\r\n",
      "-rw-rw-r-- 1 kikim kikim 8448  7월  7 14:06 weights-improvement-130-0.78.hdf5\r\n",
      "-rw-rw-r-- 1 kikim kikim 8448  7월  7 14:06 weights-improvement-47-0.70.hdf5\r\n",
      "-rw-rw-r-- 1 kikim kikim 8448  7월  7 14:06 weights-improvement-48-0.71.hdf5\r\n",
      "-rw-rw-r-- 1 kikim kikim 8448  7월  7 14:06 weights-improvement-54-0.72.hdf5\r\n",
      "-rw-rw-r-- 1 kikim kikim 8448  7월  7 14:06 weights-improvement-58-0.72.hdf5\r\n",
      "-rw-rw-r-- 1 kikim kikim 8448  7월  7 14:06 weights-improvement-77-0.72.hdf5\r\n",
      "-rw-rw-r-- 1 kikim kikim 8448  7월  7 14:06 weights-improvement-87-0.73.hdf5\r\n",
      "-rw-rw-r-- 1 kikim kikim 8448  7월  7 14:06 weights-improvement-90-0.75.hdf5\r\n"
     ]
    }
   ],
   "source": [
    "!ls -al ./models"
   ]
  },
  {
   "cell_type": "code",
   "execution_count": 22,
   "metadata": {
    "collapsed": false
   },
   "outputs": [
    {
     "name": "stdout",
     "output_type": "stream",
     "text": [
      "{\"loss\": \"binary_crossentropy\", \"optimizer\": {\"beta_1\": 0.8999999761581421, \"epsilon\": 1e-08, \"beta_2\": 0.9990000128746033, \"lr\": 0.0010000000474974513, \"name\": \"Adam\"}, \"class_name\": \"Sequential\", \"keras_version\": \"1.0.5\", \"config\": [{\"class_name\": \"Dense\", \"config\": {\"W_constraint\": null, \"b_constraint\": null, \"name\": \"dense_16\", \"output_dim\": 12, \"activity_regularizer\": null, \"trainable\": true, \"init\": \"uniform\", \"bias\": true, \"input_dtype\": \"float32\", \"input_dim\": 8, \"b_regularizer\": null, \"W_regularizer\": null, \"activation\": \"relu\", \"batch_input_shape\": [null, 8]}}, {\"class_name\": \"Dense\", \"config\": {\"W_constraint\": null, \"b_constraint\": null, \"name\": \"dense_17\", \"activity_regularizer\": null, \"trainable\": true, \"init\": \"uniform\", \"bias\": true, \"input_dim\": null, \"b_regularizer\": null, \"W_regularizer\": null, \"activation\": \"relu\", \"output_dim\": 8}}, {\"class_name\": \"Dense\", \"config\": {\"W_constraint\": null, \"b_constraint\": null, \"name\": \"dense_18\", \"activity_regularizer\": null, \"trainable\": true, \"init\": \"uniform\", \"bias\": true, \"input_dim\": null, \"b_regularizer\": null, \"W_regularizer\": null, \"activation\": \"sigmoid\", \"output_dim\": 1}}], \"sample_weight_mode\": null}"
     ]
    }
   ],
   "source": [
    "!cat ./models/model.json"
   ]
  },
  {
   "cell_type": "markdown",
   "metadata": {},
   "source": [
    "## 13.3 Save Your Neural Network Model to YAML"
   ]
  },
  {
   "cell_type": "code",
   "execution_count": 23,
   "metadata": {
    "collapsed": false,
    "scrolled": false
   },
   "outputs": [
    {
     "name": "stdout",
     "output_type": "stream",
     "text": [
      "acc: 78.91%\n",
      "Saved model to disk\n",
      "Loaded model from disk\n",
      "acc: 78.91%\n"
     ]
    }
   ],
   "source": [
    "!rm ./models/model.*\n",
    "\n",
    "# MLP for Pima Indians Dataset serialize to YAML and HDF5\n",
    "from keras.models import Sequential\n",
    "from keras.layers import Dense\n",
    "from keras.models import model_from_yaml\n",
    "import numpy\n",
    "import os\n",
    "# fix random seed for reproducibility\n",
    "seed = 7\n",
    "numpy.random.seed(seed)\n",
    "# load pima indians dataset\n",
    "dataset = numpy.loadtxt(os.path.expanduser(\"~/Downloads/pima-indians-diabetes.csv\"), delimiter=\",\")\n",
    "# split into input (X) and output (Y) variables\n",
    "X = dataset[:,0:8]\n",
    "Y = dataset[:,8]\n",
    "# create model\n",
    "model = Sequential()\n",
    "model.add(Dense(12, input_dim=8, init='uniform', activation='relu'))\n",
    "model.add(Dense(8, init='uniform', activation='relu'))\n",
    "model.add(Dense(1, init='uniform', activation='sigmoid'))\n",
    "# Compile model\n",
    "model.compile(loss='binary_crossentropy', optimizer='adam', metrics=['accuracy'])\n",
    "# Fit the model\n",
    "model.fit(X, Y, nb_epoch=150, batch_size=10, verbose=0)\n",
    "# evaluate the model\n",
    "scores = model.evaluate(X, Y, verbose=0)\n",
    "print(\"%s: %.2f%%\" % (model.metrics_names[1], scores[1]*100))\n",
    "\n",
    "# serialize model to YAML\n",
    "model_yaml = model.to_yaml()\n",
    "with open(\"./models/model.yaml\", \"w\") as yaml_file:\n",
    "    yaml_file.write(model_yaml)\n",
    "\n",
    "# serialize weights to HDF5\n",
    "model.save_weights(\"./models/model.h5\")\n",
    "print(\"Saved model to disk\")\n",
    "\n",
    "\n",
    "\n",
    "# later...\n",
    "# load YAML and create model\n",
    "yaml_file = open('./models/model.yaml', 'r')\n",
    "loaded_model_yaml = yaml_file.read()\n",
    "yaml_file.close()\n",
    "loaded_model = model_from_yaml(loaded_model_yaml)\n",
    "\n",
    "# load weights into new model\n",
    "loaded_model.load_weights(\"./models/model.h5\")\n",
    "print(\"Loaded model from disk\")\n",
    "\n",
    "# evaluate loaded model on test data\n",
    "loaded_model.compile(loss='binary_crossentropy', optimizer='rmsprop', metrics=['accuracy'])\n",
    "score = loaded_model.evaluate(X, Y, verbose=0)\n",
    "print \"%s: %.2f%%\" % (loaded_model.metrics_names[1], score[1]*100)"
   ]
  },
  {
   "cell_type": "code",
   "execution_count": 24,
   "metadata": {
    "collapsed": false
   },
   "outputs": [
    {
     "name": "stdout",
     "output_type": "stream",
     "text": [
      "total 156\r\n",
      "drwxrwxr-x 2 kikim kikim 4096  7월  7 14:09 .\r\n",
      "drwxrwxr-x 5 kikim kikim 4096  7월  7 14:08 ..\r\n",
      "-rw-rw-r-- 1 kikim kikim 8448  7월  7 14:09 model.h5\r\n",
      "-rw-rw-r-- 1 kikim kikim 1108  7월  7 14:09 model.yaml\r\n",
      "-rw-rw-r-- 1 kikim kikim 8448  7월  7 14:06 weights-improvement-00-0.67.hdf5\r\n",
      "-rw-rw-r-- 1 kikim kikim 8448  7월  7 14:06 weights-improvement-04-0.69.hdf5\r\n",
      "-rw-rw-r-- 1 kikim kikim 8448  7월  7 14:06 weights-improvement-115-0.76.hdf5\r\n",
      "-rw-rw-r-- 1 kikim kikim 8448  7월  7 14:06 weights-improvement-130-0.78.hdf5\r\n",
      "-rw-rw-r-- 1 kikim kikim 8448  7월  7 14:06 weights-improvement-47-0.70.hdf5\r\n",
      "-rw-rw-r-- 1 kikim kikim 8448  7월  7 14:06 weights-improvement-48-0.71.hdf5\r\n",
      "-rw-rw-r-- 1 kikim kikim 8448  7월  7 14:06 weights-improvement-54-0.72.hdf5\r\n",
      "-rw-rw-r-- 1 kikim kikim 8448  7월  7 14:06 weights-improvement-58-0.72.hdf5\r\n",
      "-rw-rw-r-- 1 kikim kikim 8448  7월  7 14:06 weights-improvement-77-0.72.hdf5\r\n",
      "-rw-rw-r-- 1 kikim kikim 8448  7월  7 14:06 weights-improvement-87-0.73.hdf5\r\n",
      "-rw-rw-r-- 1 kikim kikim 8448  7월  7 14:06 weights-improvement-90-0.75.hdf5\r\n"
     ]
    }
   ],
   "source": [
    "!ls -al ./models/"
   ]
  },
  {
   "cell_type": "code",
   "execution_count": 25,
   "metadata": {
    "collapsed": false
   },
   "outputs": [
    {
     "name": "stdout",
     "output_type": "stream",
     "text": [
      "class_name: Sequential\r\n",
      "config:\r\n",
      "- class_name: Dense\r\n",
      "  config:\r\n",
      "    W_constraint: null\r\n",
      "    W_regularizer: null\r\n",
      "    activation: relu\r\n",
      "    activity_regularizer: null\r\n",
      "    b_constraint: null\r\n",
      "    b_regularizer: null\r\n",
      "    batch_input_shape: !!python/tuple [null, 8]\r\n",
      "    bias: true\r\n",
      "    init: uniform\r\n",
      "    input_dim: 8\r\n",
      "    input_dtype: float32\r\n",
      "    name: dense_19\r\n",
      "    output_dim: 12\r\n",
      "    trainable: true\r\n",
      "- class_name: Dense\r\n",
      "  config: {W_constraint: null, W_regularizer: null, activation: relu, activity_regularizer: null,\r\n",
      "    b_constraint: null, b_regularizer: null, bias: true, init: uniform, input_dim: null,\r\n",
      "    name: dense_20, output_dim: 8, trainable: true}\r\n",
      "- class_name: Dense\r\n",
      "  config: {W_constraint: null, W_regularizer: null, activation: sigmoid, activity_regularizer: null,\r\n",
      "    b_constraint: null, b_regularizer: null, bias: true, init: uniform, input_dim: null,\r\n",
      "    name: dense_21, output_dim: 1, trainable: true}\r\n",
      "keras_version: 1.0.5\r\n",
      "loss: binary_crossentropy\r\n",
      "optimizer: {beta_1: 0.8999999761581421, beta_2: 0.9990000128746033, epsilon: 1.0e-08,\r\n",
      "  lr: 0.0010000000474974513, name: Adam}\r\n",
      "sample_weight_mode: null\r\n"
     ]
    }
   ],
   "source": [
    "!cat ./models/model.yaml"
   ]
  }
 ],
 "metadata": {
  "kernelspec": {
   "display_name": "Python [theano]",
   "language": "python",
   "name": "Python [theano]"
  },
  "language_info": {
   "codemirror_mode": {
    "name": "ipython",
    "version": 2
   },
   "file_extension": ".py",
   "mimetype": "text/x-python",
   "name": "python",
   "nbconvert_exporter": "python",
   "pygments_lexer": "ipython2",
   "version": "2.7.12"
  }
 },
 "nbformat": 4,
 "nbformat_minor": 0
}
