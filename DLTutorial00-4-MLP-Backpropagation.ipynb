{
 "cells": [
  {
   "cell_type": "markdown",
   "metadata": {},
   "source": [
    "# MLP\n",
    "\n",
    "<img src='http://i.stack.imgur.com/3mnuT.png' />\n",
    "\n"
   ]
  },
  {
   "cell_type": "markdown",
   "metadata": {},
   "source": [
    "## Notations\n",
    "\n",
    "### Data\n",
    "\n",
    "일반적인 분류문제에서 데이터는 다음 형태로 제공된다.  \n",
    "$ \\begin{align}\n",
    "\\mathscr{D} &= [ [\\mathbf{x}^{(1)}, C^{(1)}], [\\mathbf{x}^{(2)}, C^{(2)}], ... , [\\mathbf{x}^{(N)}, C^{(N)}] ] \\\\\n",
    "&= [\\mathbf{x}^{(n)}, C^{(n)}]^{N}_{n=1}\n",
    "\\end{align} $\n",
    "\n",
    "- input: $ \\mathbf{x} = [x_1, x_2, ..., x_{N_i}] $  \n",
    "- class: $ \\mathcal{C} = \\{C_1, C_2, ..., C_{N_k}\\} $  \n",
    "- target output: $ \\mathbf{t} = [t_1, ..., t_{N_k}] $\n",
    "\n",
    " 예)\n",
    "\n",
    "|인구($x_1$) |면적($x_2$) |국명($C$)|\n",
    "|-----------|-----------|--------|\n",
    "|100000     |2000       |미국     |\n",
    "\n",
    "\n",
    "\n",
    "예를 들어, 클래스가 {'미국', '중국', '일본'} 이라면,  \n",
    "'미국'은 $ \\mathbf{t} = [1, 0, 0] $  \n",
    "'중국'은 $ \\mathbf{t} = [0, 1, 0] $  \n",
    "'일본'은 $ \\mathbf{t} = [0, 0, 1] $  \n",
    "으로 변환한다.\n",
    "\n",
    "따라서 학습에 사용될 데이터 는 다음과 같이 변환한다.  \n",
    "$ \\mathscr{D} = [ [\\mathbf{x}^{(1)}, \\mathbf{t}^{(1)}], [\\mathbf{x}^{(2)}, \\mathbf{t}^{(2)}], ... , [\\mathbf{x}^{(N)}, \\mathbf{t}^{(N)}]  ] $  "
   ]
  },
  {
   "cell_type": "markdown",
   "metadata": {},
   "source": [
    "### Neuron\n",
    "For each neuron j,  \n",
    "\n",
    "- output: $ o_j = \\sigma(\\mathtt{net}_j) $  \n",
    "- activation function: $ \\sigma(\\cdot) $  \n",
    "- weighted sum to neuron $j$: $\\mathtt{net}_j = b_j + \\sum_{i=1}^{N_i}{w_{ij}o_i}$  \n",
    "- bias of neuron $j$: $b_j$  \n",
    "- weight from neuron $i$ to neuron $j$: $w_{ij}$"
   ]
  },
  {
   "cell_type": "markdown",
   "metadata": {},
   "source": [
    "### MLP\n",
    "\n",
    "input: $ \\mathbf{x} = [x_1, ..., x_i, ... , x_{N_i}] $  \n",
    "hidden: $ \\mathbf{h} = [h_1, ..., h_j, ... , h_{N_j}] $  \n",
    "actual output: $ \\mathbf{y} = [y_1, ..., y_k, ... , y_{N_k}] $  \n",
    "\n",
    "$i$ : index for input neurons  \n",
    "$j$ : index for hidden neurons  \n",
    "$k$ : index for output neurons  \n",
    "\n",
    "$h_j = \\sigma(\\mathtt{net}_j) = \\sigma(b_j + \\sum_{i=0}^{N_i}{w_{ij}x_i}) $  \n",
    "$y_k = \\sigma(\\mathtt{net}_k) = \\sigma(b_k + \\sum_{j=0}^{N_j}{w_{jk}h_j}) $  "
   ]
  },
  {
   "cell_type": "markdown",
   "metadata": {
    "collapsed": true
   },
   "source": [
    "## Backpropagation\n",
    "\n",
    "[Wikipedia](https://en.wikipedia.org/wiki/Backpropagation)  \n",
    "[참고 1](http://galaxy.agh.edu.pl/~vlsi/AI/backp_t_en/backprop.html)  \n",
    "[참고 2](https://mattmazur.com/2015/03/17/a-step-by-step-backpropagation-example/)  \n",
    "\n"
   ]
  },
  {
   "cell_type": "code",
   "execution_count": 12,
   "metadata": {
    "collapsed": true
   },
   "outputs": [],
   "source": [
    "%matplotlib inline\n",
    "\n",
    "import numpy as np\n",
    "from numpy import random\n",
    "import matplotlib.pyplot as plt \n",
    "import matplotlib.colors as colors\n",
    "import matplotlib.cm as cm \n",
    "from numpy.testing import assert_array_almost_equal as assertEqual\n",
    "\n",
    "cmap = cm.RdBu"
   ]
  },
  {
   "cell_type": "code",
   "execution_count": 13,
   "metadata": {
    "collapsed": true
   },
   "outputs": [],
   "source": [
    "def sigmoid(x):\n",
    "    return 1 / (1 + np.exp(-x))\n",
    "\n",
    "def tanh(x):\n",
    "    return (1 - np.exp(-2 * x)) / (1 + np.exp(-2 * x))\n",
    "\n",
    "def lin(x):\n",
    "    return x\n",
    "\n",
    "def ReLU(x):\n",
    "    return np.maximum(0, x)\n",
    "\n",
    "\n",
    "\n",
    "def grad_sigmoid(x, o=[]):\n",
    "    if len(o) == 0:\n",
    "        o = sigmoid(x)\n",
    "        \n",
    "    return np.multiply(o, (1 - o))\n",
    "\n",
    "def grad_tanh(x, o=[]):\n",
    "    if len(o) == 0:\n",
    "        o = tanh(x)\n",
    "        \n",
    "    return 1 - np.power(o,2)\n",
    "\n",
    "def grad_lin(x, o=[]):\n",
    "    return 1\n",
    "\n",
    "def grad_ReLU(x, o=[]):\n",
    "    return x >= 0"
   ]
  },
  {
   "cell_type": "code",
   "execution_count": 14,
   "metadata": {
    "collapsed": false
   },
   "outputs": [],
   "source": [
    "class MLP(object):\n",
    "    \n",
    "    \n",
    "    def __init__(self, nNeurons = [2, 4, 1], initW=0.1, actFns=[sigmoid, sigmoid], gradFns=[grad_sigmoid, grad_sigmoid]):\n",
    "        self.nNeurons = nNeurons\n",
    "        self.NumLayers = len(nNeurons) - 1\n",
    "        self.W = []\n",
    "        self.b = []\n",
    "        for i in range(self.NumLayers):\n",
    "            if initW == 0:\n",
    "                self.W.append(np.zeros(nNeurons[i:i+2]))\n",
    "            else:\n",
    "                self.W.append((random.rand(nNeurons[i], nNeurons[i+1]) - 0.5) * 2 * initW)\n",
    "\n",
    "            self.b.append(np.zeros(nNeurons[i+1]))\n",
    "            \n",
    "        if len(actFns) != self.NumLayers:\n",
    "            raise  Exception('aaa')\n",
    "            \n",
    "        self.actFns = actFns\n",
    "        self.gradFns = gradFns\n",
    "        \n",
    "        \n",
    "    def evaluate(self, X):\n",
    "        input = np.array(X) if type(X) is list else X\n",
    "        \n",
    "        nets = []\n",
    "        outs = []\n",
    "        \n",
    "        input = X\n",
    "        for i in range(self.NumLayers):\n",
    "            net_i = self.b[i] + np.dot(input, self.W[i])\n",
    "            out_i = self.actFns[i](net_i)\n",
    "            \n",
    "            nets.append(net_i)\n",
    "            outs.append(out_i)\n",
    "            \n",
    "            input =  out_i\n",
    "            \n",
    "        return outs, nets\n",
    "\n",
    "    def errors(self, X, t, outs=[]):\n",
    "        _X = np.array(X) if type(X) is list else X\n",
    "        _t = np.array(t) if type(t) is list else t\n",
    "        \n",
    "        if len(outs) == 0:\n",
    "            outs, nets = self.evaluate(_X)\n",
    "        \n",
    "        errors = _t - outs[-1]\n",
    "        \n",
    "        return errors\n",
    "        \n",
    "    def lossFn(self, X, t):\n",
    "        return 0.5 * np.sum(np.power(self.errors(X, t), 2))\n",
    "            \n",
    "    def grad(self, X, t, nets=[], outs=[], errors=[]):\n",
    "        _X = np.array(X) if type(X) is list else X\n",
    "        _t = np.array(t) if type(t) is list else t\n",
    "        \n",
    "        N, D = _X.shape\n",
    "        \n",
    "        if len(outs) == 0 or len(nets) == 0:\n",
    "            outs, nets = self.evaluate(_X)\n",
    "        \n",
    "        if len(errors) == 0:\n",
    "            errors = self.errors(_X, _t, outs)\n",
    "            \n",
    "        outs.insert(0, _X)\n",
    "        nets.insert(0, _X)\n",
    "        \n",
    "        gradWs = []\n",
    "        gradbs = []\n",
    "        \n",
    "        for i in reversed(range(self.NumLayers)):\n",
    "            \n",
    "            if i == self.NumLayers - 1:\n",
    "                sumDelta = -1 * errors\n",
    "            else:\n",
    "                sumDelta = np.dot(delta, self.W[i+1].T)\n",
    "\n",
    "            delta = np.multiply(sumDelta, self.gradFns[i](nets[i+1], o=outs[i+1]))\n",
    "            \n",
    "            gradWs.insert(0, np.dot(delta.T, outs[i]).T)\n",
    "            gradbs.insert(0, np.sum(delta, 0))\n",
    "            \n",
    "        return gradWs, gradbs\n",
    "        \n",
    "    def update(self, gradWs, gradbs, mu):\n",
    "        for i in range(len(self.W)):\n",
    "            self.W[i] -= mu * gradWs[i]\n",
    "            self.b[i] -= mu * gradbs[i]\n",
    "        \n",
    "testModel = MLP(nNeurons = [3, 5, 2], initW= 0.2, actFns=[ReLU, sigmoid], gradFns=[grad_ReLU, grad_sigmoid])\n",
    "assertEqual(2, testModel.NumLayers)\n",
    "assertEqual(2, len(testModel.W))\n",
    "assertEqual([3,5], testModel.W[0].shape)\n",
    "assertEqual([5,2], testModel.W[1].shape)\n",
    "assert(np.all(0.0 < np.abs(testModel.W[0] < 0.2)))\n",
    "assert(np.all(0.0 < np.abs(testModel.W[1] < 0.2)))\n",
    "assertEqual(2, len(testModel.b))\n",
    "assertEqual([5,], testModel.b[0].shape)\n",
    "assertEqual([2,], testModel.b[1].shape)\n",
    "assert(np.all(0.0 == np.abs(testModel.b[0])))\n",
    "assert(np.all(0.0 == np.abs(testModel.b[1])))\n",
    "assertEqual([0, 0, 1, 2], testModel.actFns[0]([-2, 0, 1, 2]))\n",
    "assertEqual(0.5, testModel.actFns[1](0))\n",
    "\n",
    "testModel = MLP(nNeurons = [3, 4, 2], initW= 0, actFns=[ReLU, sigmoid], gradFns=[grad_ReLU, grad_sigmoid])\n",
    "testOut, testNet = testModel.evaluate(np.array([1,2,3]))\n",
    "assertEqual(2, len(testOut))\n",
    "assertEqual(np.zeros(4), testOut[0])\n",
    "assertEqual(np.ones(2) * 0.5, testOut[1])\n",
    "assertEqual(2, len(testNet))\n",
    "assertEqual(np.zeros(4), testNet[0])\n",
    "assertEqual(np.zeros(2), testNet[1])\n",
    "\n",
    "testOut, testNet = testModel.evaluate([[1,2,3], [1,2,3]])\n",
    "assertEqual(2, len(testOut))\n",
    "assertEqual(np.zeros([2, 4]), testOut[0])\n",
    "assertEqual(np.ones([2, 2]) * 0.5, testOut[1])\n",
    "assertEqual(2, len(testNet))\n",
    "assertEqual(np.zeros([2, 4]), testNet[0])\n",
    "assertEqual(np.zeros([2, 2]), testNet[1])\n",
    "\n",
    "assertEqual(np.array([.5, .5]), testModel.errors([0, 0, 0], [1, 1]))\n",
    "assertEqual(np.array([[.5, .5],[.5, .5],[.5, -.5],[-.5, -.5]]), \n",
    "            testModel.errors([[0, 0, 0], [0, 0, 0], [0, 0, 0], [1,2,3]], [[1, 1], [1, 1], [1, 0], [0, 0]]))\n",
    "assertEqual(0.5, testModel.lossFn([[0, 0, 0], [1,2,3]], [1, 0]))\n",
    "\n",
    "# grad() 테스트\n",
    "testModel = MLP(nNeurons = [3, 4, 2], initW= 0.1, actFns=[ReLU, sigmoid], gradFns=[grad_ReLU, grad_sigmoid])\n",
    "testGW, testGb = testModel.grad([[0, 0, 0], [0, 0, 0], [1,2,3]], [[1, 0], [1, 0], [0, 1]])\n",
    "assertEqual(testModel.W[0].shape, testGW[0].shape)\n",
    "assertEqual(testModel.W[1].shape, testGW[1].shape)\n",
    "assertEqual(testModel.b[0].shape, testGb[0].shape)\n",
    "assertEqual(testModel.b[1].shape, testGb[1].shape)\n",
    "\n",
    "N = 100\n",
    "testX = random.randn(N, 3)\n",
    "testY = random.randn(N, 2) > 0.5\n",
    "testGW, testGb = testModel.grad(testX, testY)\n",
    "h = 1e-3\n",
    "(l, i, j) = (1, 2, 0)\n",
    "testModel.W[l][i,j] += h\n",
    "loss0 = testModel.lossFn(testX, testY)\n",
    "testModel.W[l][i,j] -= 2*h\n",
    "loss1 = testModel.lossFn(testX, testY)\n",
    "assertEqual(testGW[l][i,j], (loss0 - loss1) / (2*h))"
   ]
  },
  {
   "cell_type": "code",
   "execution_count": 15,
   "metadata": {
    "collapsed": true
   },
   "outputs": [],
   "source": [
    "def plot_bi_data(x, y, title = u'',\n",
    "                       markers = [u'x', u'o'], \n",
    "                       colors = ['r', 'b'], \n",
    "                       labels = [u'N', u'Y'],\n",
    "                       ax = None):\n",
    "    idx = [0, 0]\n",
    "    \n",
    "    classes = np.unique(y)\n",
    "    \n",
    "    for i in range(2):\n",
    "        idx[i] = (np.where(y==classes[i])[0])\n",
    "    \n",
    "    if (ax == None):\n",
    "        ax = plt.figure().add_subplot(111)\n",
    "        \n",
    "    for i in (1, 0):\n",
    "        ax.plot(x[idx[i],0], x[idx[i],1], markers[i], \n",
    "                                          color=colors[i], \n",
    "                                          label= labels[i]) \n",
    "    ax.set_title(title)\n",
    "    ax.legend()\n",
    "    \n",
    "    return ax\n",
    "\n",
    "def plot_DecisionBoundary(x, clf, mlp):\n",
    "    x0_min, x0_max = x[:, 0].min() - 1, x[:, 0].max() + 1\n",
    "    x1_min, x1_max = x[:, 1].min() - 1, x[:, 1].max() + 1\n",
    "    \n",
    "    h = 0.05\n",
    "    xx0, xx1 = np.meshgrid(np.arange(x0_min, x0_max, h),\n",
    "                         np.arange(x1_min, x1_max, h))\n",
    "    \n",
    "    yy = clf(mlp, np.c_[xx0.ravel(), xx1.ravel()])\n",
    "    yy = yy.reshape(xx0.shape)\n",
    "    \n",
    "    ax = plt.figure().add_subplot(111)\n",
    "    ax.contourf(xx0, xx1, yy, cmap=cmap)\n",
    "    \n",
    "    return ax\n",
    "\n",
    "def plot_GD(x, y, clf, mlp):\n",
    "    ax = plot_DecisionBoundary(x, clf, mlp)\n",
    "    ax = plot_bi_data(x, y, ax=ax)\n",
    "    return ax"
   ]
  },
  {
   "cell_type": "code",
   "execution_count": 44,
   "metadata": {
    "collapsed": false
   },
   "outputs": [],
   "source": [
    "def classify(mlp, X):\n",
    "    outs, nets = mlp.evaluate(X)\n",
    "    out = outs[-1]\n",
    "    \n",
    "    c = np.ones(out.shape[0])\n",
    "    c[out[:, 0] > out[:, 1]] = -1\n",
    "    \n",
    "    return c\n",
    "\n",
    "def fit(mlp, x, y, epoch, mu, verbose=2):\n",
    "    N, D = x.shape\n",
    "    \n",
    "    Y = np.array([y==0, y==1]).T\n",
    "    \n",
    "    for i in range(epoch):\n",
    "        gradW, gradB = mlp.grad(x, Y)\n",
    "        \n",
    "        if verbose > 0 and i % (epoch / 10) == 0 :\n",
    "            E = mlp.lossFn(x, Y)\n",
    "            if verbose == 1:\n",
    "                print u'i = %d, E = %f' % (i, E)\n",
    "            else:\n",
    "                ax = plot_GD(x, y, classify, mlp)\n",
    "                ax.set_title(u'i = %d, E = %f' % (i, E))\n",
    "                \n",
    "        mlp.update(gradW, gradB, mu)\n",
    "    \n",
    "    E = mlp.lossFn(x, Y)\n",
    "    \n",
    "    if verbose == 2:\n",
    "        ax = plot_GD(x, y, classify, mlp)\n",
    "        ax.set_title(u'i = %d, E = %f' % (epoch, E))\n",
    "    elif verbose == 1:\n",
    "        print u'i = %d, E = %f' % (epoch, E)"
   ]
  },
  {
   "cell_type": "code",
   "execution_count": 45,
   "metadata": {
    "collapsed": false
   },
   "outputs": [
    {
     "data": {
      "text/plain": [
       "<matplotlib.axes._subplots.AxesSubplot at 0x7fb67a603fd0>"
      ]
     },
     "execution_count": 45,
     "metadata": {},
     "output_type": "execute_result"
    },
    {
     "data": {
      "image/png": "[encoded data removed]",
      "text/plain": [
       "<matplotlib.figure.Figure at 0x7fb67b27bed0>"
      ]
     },
     "metadata": {},
     "output_type": "display_data"
    }
   ],
   "source": [
    "# Generate 2D data\n",
    "N = 100\n",
    "\n",
    "random.seed(5)\n",
    "\n",
    "Yes = np.zeros([N/2, 2])\n",
    "Yes1 = np.random.multivariate_normal([4, 0], [[0.3, 0], [0, 2]], N/4)\n",
    "Yes2 = np.random.multivariate_normal([2, 2], [[2, 0], [0, 0.3]], N/4)\n",
    "Yes[:N/4, :] = Yes1\n",
    "Yes[N/4:, :] = Yes2\n",
    "\n",
    "No = np.random.multivariate_normal([1.5, -0.5], [[0.5, 0], [0, 0.5]], N/2)\n",
    "\n",
    "x = np.zeros([Yes.shape[0] + No.shape[0], 2])\n",
    "x[:N/2, :2] = Yes\n",
    "x[N/2:, :2] = No\n",
    "\n",
    "y = np.append(np.ones(Yes.shape[0]),np.zeros(No.shape[0]))\n",
    "    \n",
    "plot_bi_data(x, y, title='Data')"
   ]
  },
  {
   "cell_type": "code",
   "execution_count": 46,
   "metadata": {
    "collapsed": false,
    "scrolled": false
   },
   "outputs": [
    {
     "name": "stdout",
     "output_type": "stream",
     "text": [
      "training accuracy = 1.000000\n"
     ]
    }
   ],
   "source": [
    "random.seed()\n",
    "mlp = MLP(nNeurons = [2, 5, 5, 2], initW= 0.01, \n",
    "          actFns=[ReLU, sigmoid, tanh], gradFns=[grad_ReLU, grad_sigmoid, grad_tanh])\n",
    "#mlp = MLP(nNeurons = [2, 5, 5, 2], initW= 0.1, actFns=[ReLU, ReLU, tanh], gradFns=[grad_ReLU, grad_ReLU, grad_tanh])\n",
    "fit(mlp, x, y, 20000, 0.01, verbose=2)\n",
    "c = classify(mlp, x)\n",
    "print \"training accuracy = %f\" % np.mean(y == (c>0))"
   ]
  },
  {
   "cell_type": "markdown",
   "metadata": {
    "collapsed": true
   },
   "source": [
    "## Fit other datasets\n",
    "\n",
    "[참고:scikit-learn.org](http://scikit-learn.org/stable/auto_examples/classification/plot_classifier_comparison.html)"
   ]
  },
  {
   "cell_type": "code",
   "execution_count": 33,
   "metadata": {
    "collapsed": false
   },
   "outputs": [],
   "source": [
    "from sklearn.datasets import make_moons, make_circles, make_classification\n",
    "import numpy as np\n",
    "\n",
    "X, y = make_classification(n_features=2, n_redundant=0, n_informative=2,\n",
    "                           random_state=1, n_clusters_per_class=1)\n",
    "rng = np.random.RandomState(2)\n",
    "X += 2 * rng.uniform(size=X.shape)\n",
    "linearly_separable = (X, y)\n",
    "\n",
    "datasets = [make_moons(noise=0.3, random_state=0),\n",
    "            make_circles(noise=0.2, factor=0.5, random_state=1),\n",
    "            linearly_separable]\n",
    "\n",
    "datasetNames = [\"moons\", \"circles\", \"lin_sep\"]"
   ]
  },
  {
   "cell_type": "code",
   "execution_count": 55,
   "metadata": {
    "collapsed": false
   },
   "outputs": [
    {
     "data": {
      "image/png": "[encoded data removed]",
      "text/plain": [
       "<matplotlib.figure.Figure at 0x7fb67bbe3890>"
      ]
     },
     "metadata": {},
     "output_type": "display_data"
    },
    {
     "data": {
      "image/png": "[encoded data removed]",
      "text/plain": [
       "<matplotlib.figure.Figure at 0x7fb67a55fcd0>"
      ]
     },
     "metadata": {},
     "output_type": "display_data"
    },
    {
     "data": {
      "image/png": "[encoded data removed]",
      "text/plain": [
       "<matplotlib.figure.Figure at 0x7fb67b3614d0>"
      ]
     },
     "metadata": {},
     "output_type": "display_data"
    }
   ],
   "source": [
    "for (dataset, name) in zip(datasets, datasetNames):\n",
    "    ax = plt.figure().add_subplot(111)\n",
    "    plot_bi_data(dataset[0], dataset[1], title=name,ax=ax)"
   ]
  },
  {
   "cell_type": "code",
   "execution_count": 114,
   "metadata": {
    "collapsed": false
   },
   "outputs": [],
   "source": [
    "mlps = []\n",
    "for i in range(len(datasets)):\n",
    "    mlp = MLP(nNeurons = [2, 5, 2], initW= 0.1, \n",
    "          actFns=[tanh, sigmoid], gradFns=[grad_tanh, grad_sigmoid])\n",
    "    mlps.append(mlp)"
   ]
  },
  {
   "cell_type": "code",
   "execution_count": 115,
   "metadata": {
    "collapsed": false
   },
   "outputs": [
    {
     "data": {
      "image/png": "[encoded data removed]",
      "text/plain": [
       "<matplotlib.figure.Figure at 0x7fb67aea6910>"
      ]
     },
     "metadata": {},
     "output_type": "display_data"
    },
    {
     "data": {
      "image/png": "[encoded data removed]",
      "text/plain": [
       "<matplotlib.figure.Figure at 0x7fb67b0ef610>"
      ]
     },
     "metadata": {},
     "output_type": "display_data"
    },
    {
     "data": {
      "image/png": "[encoded data removed]",
      "text/plain": [
       "<matplotlib.figure.Figure at 0x7fb67c34ca50>"
      ]
     },
     "metadata": {},
     "output_type": "display_data"
    }
   ],
   "source": [
    "for (mlp, dataset, name) in zip(mlps, datasets, datasetNames):\n",
    "    fit(mlp, dataset[0], dataset[1], 20000, 0.01, verbose=0)\n",
    "    \n",
    "    #ax = plt.figure().add_subplot(111)\n",
    "    #ax.set_title(name)\n",
    "    plot_GD(dataset[0], dataset[1], classify, mlp)\n",
    "    plt.show()"
   ]
  },
  {
   "cell_type": "code",
   "execution_count": null,
   "metadata": {
    "collapsed": true
   },
   "outputs": [],
   "source": []
  },
  {
   "cell_type": "code",
   "execution_count": null,
   "metadata": {
    "collapsed": true
   },
   "outputs": [],
   "source": []
  }
 ],
 "metadata": {
  "kernelspec": {
   "display_name": "Python [theano]",
   "language": "python",
   "name": "Python [theano]"
  },
  "language_info": {
   "codemirror_mode": {
    "name": "ipython",
    "version": 2
   },
   "file_extension": ".py",
   "mimetype": "text/x-python",
   "name": "python",
   "nbconvert_exporter": "python",
   "pygments_lexer": "ipython2",
   "version": "2.7.12"
  }
 },
 "nbformat": 4,
 "nbformat_minor": 0
}
